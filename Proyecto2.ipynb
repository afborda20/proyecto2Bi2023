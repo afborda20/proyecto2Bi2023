{
 "cells": [
  {
   "cell_type": "markdown",
   "id": "1c446b89-9d99-4c7e-af36-1725b55e0be2",
   "metadata": {},
   "source": [
    "# Proyecto 2"
   ]
  },
  {
   "cell_type": "code",
   "execution_count": 127,
   "id": "716fa822-e6e7-48c2-b87c-b1d0d9a51fdd",
   "metadata": {},
   "outputs": [],
   "source": [
    "import numpy as np\n",
    "import pandas as pd\n",
    "import sys\n",
    "from pandas_profiling import ProfileReport\n",
    "import statistics\n",
    "from matplotlib import cm\n",
    "from mpl_toolkits.mplot3d import Axes3D # for 3D plots\n",
    "import seaborn as sns; sns.set()  # for plot styling\n",
    "import matplotlib.pyplot as plt\n",
    "import seaborn as sns; sns.set()  # for plot styling\n"
   ]
  },
  {
   "cell_type": "markdown",
   "id": "9d3cb972-a305-4fd8-96eb-841b5d9c2996",
   "metadata": {},
   "source": [
    "## Cargar los datos"
   ]
  },
  {
   "cell_type": "code",
   "execution_count": 128,
   "id": "bb34566b-d09b-4d5f-a801-d7f5d5d171cb",
   "metadata": {},
   "outputs": [
    {
     "name": "stderr",
     "output_type": "stream",
     "text": [
      "C:\\Users\\WIN\\AppData\\Local\\Temp\\ipykernel_12560\\16182972.py:5: DtypeWarning: Columns (1,8,16,17,29,30) have mixed types. Specify dtype option on import or set low_memory=False.\n",
      "  df_resp2021=pd.read_csv('./datos/DatosResp2021.csv', sep=';', encoding = \"ISO-8859-1\")\n"
     ]
    }
   ],
   "source": [
    "# Se cargan los datos. \n",
    "#Para 2017\n",
    "df_resp2017=pd.read_csv('./datos/DatosResp2017.csv', sep=';', encoding = \"ISO-8859-1\")\n",
    "#Para 2021\n",
    "df_resp2021=pd.read_csv('./datos/DatosResp2021.csv', sep=';', encoding = \"ISO-8859-1\")"
   ]
  },
  {
   "cell_type": "code",
   "execution_count": 129,
   "metadata": {},
   "outputs": [],
   "source": [
    "columnas_borrado = [\"Unnamed: 6\" , \"Unnamed: 7\"]\n",
    "df_resp2017 = df_resp2017.drop(columnas_borrado, axis=1)"
   ]
  },
  {
   "cell_type": "code",
   "execution_count": 130,
   "metadata": {},
   "outputs": [],
   "source": [
    "columnas_no_deseadas = [f'Unnamed: {i}' for i in range(4, 31)]\n",
    "df_resp2021 = df_resp2021.drop(columnas_no_deseadas, axis=1)"
   ]
  },
  {
   "cell_type": "code",
   "execution_count": 131,
   "metadata": {},
   "outputs": [],
   "source": [
    "#Eliminar las filas con valores nulos (Error de carga del CSV no de los datos)\n",
    "df_resp2021 = df_resp2021.dropna()"
   ]
  },
  {
   "cell_type": "markdown",
   "metadata": {},
   "source": [
    "## Entendimiento de los datos "
   ]
  },
  {
   "cell_type": "markdown",
   "metadata": {},
   "source": [
    "### Perfilamiento de datos"
   ]
  },
  {
   "cell_type": "code",
   "execution_count": 132,
   "id": "2d784489-b008-4b9e-ab83-d29426aedf36",
   "metadata": {},
   "outputs": [
    {
     "data": {
      "text/html": [
       "<div>\n",
       "<style scoped>\n",
       "    .dataframe tbody tr th:only-of-type {\n",
       "        vertical-align: middle;\n",
       "    }\n",
       "\n",
       "    .dataframe tbody tr th {\n",
       "        vertical-align: top;\n",
       "    }\n",
       "\n",
       "    .dataframe thead th {\n",
       "        text-align: right;\n",
       "    }\n",
       "</style>\n",
       "<table border=\"1\" class=\"dataframe\">\n",
       "  <thead>\n",
       "    <tr style=\"text-align: right;\">\n",
       "      <th></th>\n",
       "      <th>Id</th>\n",
       "      <th>Enfermedad</th>\n",
       "      <th>Basura</th>\n",
       "      <th>Asma</th>\n",
       "      <th>EnfermedadesRespiratorias</th>\n",
       "      <th>Localidad</th>\n",
       "    </tr>\n",
       "  </thead>\n",
       "  <tbody>\n",
       "    <tr>\n",
       "      <th>0</th>\n",
       "      <td>1</td>\n",
       "      <td>2</td>\n",
       "      <td>1</td>\n",
       "      <td>1</td>\n",
       "      <td>1</td>\n",
       "      <td>SUBA</td>\n",
       "    </tr>\n",
       "    <tr>\n",
       "      <th>1</th>\n",
       "      <td>2</td>\n",
       "      <td>2</td>\n",
       "      <td>1</td>\n",
       "      <td>1</td>\n",
       "      <td>1</td>\n",
       "      <td>USAQUEN</td>\n",
       "    </tr>\n",
       "    <tr>\n",
       "      <th>2</th>\n",
       "      <td>3</td>\n",
       "      <td>2</td>\n",
       "      <td>1</td>\n",
       "      <td>1</td>\n",
       "      <td>1</td>\n",
       "      <td>USAQUEN</td>\n",
       "    </tr>\n",
       "    <tr>\n",
       "      <th>3</th>\n",
       "      <td>4</td>\n",
       "      <td>1</td>\n",
       "      <td>1</td>\n",
       "      <td>1</td>\n",
       "      <td>1</td>\n",
       "      <td>USAQUEN</td>\n",
       "    </tr>\n",
       "    <tr>\n",
       "      <th>4</th>\n",
       "      <td>5</td>\n",
       "      <td>1</td>\n",
       "      <td>1</td>\n",
       "      <td>1</td>\n",
       "      <td>1</td>\n",
       "      <td>SUBA</td>\n",
       "    </tr>\n",
       "  </tbody>\n",
       "</table>\n",
       "</div>"
      ],
      "text/plain": [
       "   Id  Enfermedad  Basura  Asma  EnfermedadesRespiratorias Localidad\n",
       "0   1           2       1     1                          1      SUBA\n",
       "1   2           2       1     1                          1   USAQUEN\n",
       "2   3           2       1     1                          1   USAQUEN\n",
       "3   4           1       1     1                          1   USAQUEN\n",
       "4   5           1       1     1                          1      SUBA"
      ]
     },
     "execution_count": 132,
     "metadata": {},
     "output_type": "execute_result"
    }
   ],
   "source": [
    "df_resp2017.head()"
   ]
  },
  {
   "cell_type": "code",
   "execution_count": 133,
   "metadata": {},
   "outputs": [
    {
     "data": {
      "text/html": [
       "<div>\n",
       "<style scoped>\n",
       "    .dataframe tbody tr th:only-of-type {\n",
       "        vertical-align: middle;\n",
       "    }\n",
       "\n",
       "    .dataframe tbody tr th {\n",
       "        vertical-align: top;\n",
       "    }\n",
       "\n",
       "    .dataframe thead th {\n",
       "        text-align: right;\n",
       "    }\n",
       "</style>\n",
       "<table border=\"1\" class=\"dataframe\">\n",
       "  <thead>\n",
       "    <tr style=\"text-align: right;\">\n",
       "      <th></th>\n",
       "      <th>ï»¿Id</th>\n",
       "      <th>Localidad</th>\n",
       "      <th>Basura</th>\n",
       "      <th>EnfermedadesRespiratorias</th>\n",
       "    </tr>\n",
       "  </thead>\n",
       "  <tbody>\n",
       "    <tr>\n",
       "      <th>0</th>\n",
       "      <td>1.0</td>\n",
       "      <td>Bosa</td>\n",
       "      <td>1.0</td>\n",
       "      <td>2.0</td>\n",
       "    </tr>\n",
       "    <tr>\n",
       "      <th>1</th>\n",
       "      <td>2.0</td>\n",
       "      <td>Bosa</td>\n",
       "      <td>1.0</td>\n",
       "      <td>2.0</td>\n",
       "    </tr>\n",
       "    <tr>\n",
       "      <th>2</th>\n",
       "      <td>3.0</td>\n",
       "      <td>Bosa</td>\n",
       "      <td>1.0</td>\n",
       "      <td>2.0</td>\n",
       "    </tr>\n",
       "    <tr>\n",
       "      <th>3</th>\n",
       "      <td>4.0</td>\n",
       "      <td>Bosa</td>\n",
       "      <td>1.0</td>\n",
       "      <td>2.0</td>\n",
       "    </tr>\n",
       "    <tr>\n",
       "      <th>4</th>\n",
       "      <td>5.0</td>\n",
       "      <td>Bosa</td>\n",
       "      <td>1.0</td>\n",
       "      <td>2.0</td>\n",
       "    </tr>\n",
       "  </tbody>\n",
       "</table>\n",
       "</div>"
      ],
      "text/plain": [
       "   ï»¿Id Localidad  Basura  EnfermedadesRespiratorias\n",
       "0    1.0      Bosa     1.0                        2.0\n",
       "1    2.0      Bosa     1.0                        2.0\n",
       "2    3.0      Bosa     1.0                        2.0\n",
       "3    4.0      Bosa     1.0                        2.0\n",
       "4    5.0      Bosa     1.0                        2.0"
      ]
     },
     "execution_count": 133,
     "metadata": {},
     "output_type": "execute_result"
    }
   ],
   "source": [
    "df_resp2021.head()"
   ]
  },
  {
   "cell_type": "code",
   "execution_count": 134,
   "id": "32d37af9-eafb-40d5-a9a4-ec0b836653ed",
   "metadata": {},
   "outputs": [
    {
     "data": {
      "text/plain": [
       "(319952, 6)"
      ]
     },
     "execution_count": 134,
     "metadata": {},
     "output_type": "execute_result"
    }
   ],
   "source": [
    "df_resp2017.shape"
   ]
  },
  {
   "cell_type": "code",
   "execution_count": 135,
   "metadata": {},
   "outputs": [
    {
     "data": {
      "text/plain": [
       "(235103, 4)"
      ]
     },
     "execution_count": 135,
     "metadata": {},
     "output_type": "execute_result"
    }
   ],
   "source": [
    "df_resp2021.shape"
   ]
  },
  {
   "cell_type": "code",
   "execution_count": 136,
   "id": "964487ec-56f8-4cb3-b351-a30a21c55cc2",
   "metadata": {},
   "outputs": [
    {
     "name": "stdout",
     "output_type": "stream",
     "text": [
      "<class 'pandas.core.frame.DataFrame'>\n",
      "RangeIndex: 319952 entries, 0 to 319951\n",
      "Data columns (total 6 columns):\n",
      " #   Column                     Non-Null Count   Dtype \n",
      "---  ------                     --------------   ----- \n",
      " 0   Id                         319952 non-null  int64 \n",
      " 1   Enfermedad                 319952 non-null  int64 \n",
      " 2   Basura                     319952 non-null  int64 \n",
      " 3   Asma                       319952 non-null  int64 \n",
      " 4   EnfermedadesRespiratorias  319952 non-null  int64 \n",
      " 5   Localidad                  221809 non-null  object\n",
      "dtypes: int64(5), object(1)\n",
      "memory usage: 14.6+ MB\n"
     ]
    }
   ],
   "source": [
    "# Revisar las características de los datos: completitud y tipo de dato\n",
    "df_resp2017.info()"
   ]
  },
  {
   "cell_type": "code",
   "execution_count": 137,
   "metadata": {},
   "outputs": [
    {
     "name": "stdout",
     "output_type": "stream",
     "text": [
      "<class 'pandas.core.frame.DataFrame'>\n",
      "Index: 235103 entries, 0 to 292280\n",
      "Data columns (total 4 columns):\n",
      " #   Column                     Non-Null Count   Dtype  \n",
      "---  ------                     --------------   -----  \n",
      " 0   ï»¿Id                      235103 non-null  float64\n",
      " 1   Localidad                  235103 non-null  object \n",
      " 2   Basura                     235103 non-null  float64\n",
      " 3   EnfermedadesRespiratorias  235103 non-null  float64\n",
      "dtypes: float64(3), object(1)\n",
      "memory usage: 9.0+ MB\n"
     ]
    }
   ],
   "source": [
    "# Revisar las características de los datos: completitud y tipo de dato\n",
    "df_resp2021.info()"
   ]
  },
  {
   "cell_type": "code",
   "execution_count": 138,
   "id": "10ab38ff-1f8f-4739-816f-7ed0bf0df3a2",
   "metadata": {},
   "outputs": [
    {
     "data": {
      "text/html": [
       "<div>\n",
       "<style scoped>\n",
       "    .dataframe tbody tr th:only-of-type {\n",
       "        vertical-align: middle;\n",
       "    }\n",
       "\n",
       "    .dataframe tbody tr th {\n",
       "        vertical-align: top;\n",
       "    }\n",
       "\n",
       "    .dataframe thead th {\n",
       "        text-align: right;\n",
       "    }\n",
       "</style>\n",
       "<table border=\"1\" class=\"dataframe\">\n",
       "  <thead>\n",
       "    <tr style=\"text-align: right;\">\n",
       "      <th></th>\n",
       "      <th>Id</th>\n",
       "      <th>Enfermedad</th>\n",
       "      <th>Basura</th>\n",
       "      <th>Asma</th>\n",
       "      <th>EnfermedadesRespiratorias</th>\n",
       "    </tr>\n",
       "  </thead>\n",
       "  <tbody>\n",
       "    <tr>\n",
       "      <th>count</th>\n",
       "      <td>319952.000000</td>\n",
       "      <td>319952.000000</td>\n",
       "      <td>319952.000000</td>\n",
       "      <td>319952.000000</td>\n",
       "      <td>319952.000000</td>\n",
       "    </tr>\n",
       "    <tr>\n",
       "      <th>mean</th>\n",
       "      <td>159976.500000</td>\n",
       "      <td>1.967533</td>\n",
       "      <td>1.070723</td>\n",
       "      <td>1.985226</td>\n",
       "      <td>1.957312</td>\n",
       "    </tr>\n",
       "    <tr>\n",
       "      <th>std</th>\n",
       "      <td>92362.331001</td>\n",
       "      <td>0.177238</td>\n",
       "      <td>0.535139</td>\n",
       "      <td>0.120648</td>\n",
       "      <td>0.202152</td>\n",
       "    </tr>\n",
       "    <tr>\n",
       "      <th>min</th>\n",
       "      <td>1.000000</td>\n",
       "      <td>1.000000</td>\n",
       "      <td>1.000000</td>\n",
       "      <td>1.000000</td>\n",
       "      <td>1.000000</td>\n",
       "    </tr>\n",
       "    <tr>\n",
       "      <th>25%</th>\n",
       "      <td>79988.750000</td>\n",
       "      <td>2.000000</td>\n",
       "      <td>1.000000</td>\n",
       "      <td>2.000000</td>\n",
       "      <td>2.000000</td>\n",
       "    </tr>\n",
       "    <tr>\n",
       "      <th>50%</th>\n",
       "      <td>159976.500000</td>\n",
       "      <td>2.000000</td>\n",
       "      <td>1.000000</td>\n",
       "      <td>2.000000</td>\n",
       "      <td>2.000000</td>\n",
       "    </tr>\n",
       "    <tr>\n",
       "      <th>75%</th>\n",
       "      <td>239964.250000</td>\n",
       "      <td>2.000000</td>\n",
       "      <td>1.000000</td>\n",
       "      <td>2.000000</td>\n",
       "      <td>2.000000</td>\n",
       "    </tr>\n",
       "    <tr>\n",
       "      <th>max</th>\n",
       "      <td>319952.000000</td>\n",
       "      <td>2.000000</td>\n",
       "      <td>6.000000</td>\n",
       "      <td>2.000000</td>\n",
       "      <td>2.000000</td>\n",
       "    </tr>\n",
       "  </tbody>\n",
       "</table>\n",
       "</div>"
      ],
      "text/plain": [
       "                  Id     Enfermedad         Basura           Asma  \\\n",
       "count  319952.000000  319952.000000  319952.000000  319952.000000   \n",
       "mean   159976.500000       1.967533       1.070723       1.985226   \n",
       "std     92362.331001       0.177238       0.535139       0.120648   \n",
       "min         1.000000       1.000000       1.000000       1.000000   \n",
       "25%     79988.750000       2.000000       1.000000       2.000000   \n",
       "50%    159976.500000       2.000000       1.000000       2.000000   \n",
       "75%    239964.250000       2.000000       1.000000       2.000000   \n",
       "max    319952.000000       2.000000       6.000000       2.000000   \n",
       "\n",
       "       EnfermedadesRespiratorias  \n",
       "count              319952.000000  \n",
       "mean                    1.957312  \n",
       "std                     0.202152  \n",
       "min                     1.000000  \n",
       "25%                     2.000000  \n",
       "50%                     2.000000  \n",
       "75%                     2.000000  \n",
       "max                     2.000000  "
      ]
     },
     "execution_count": 138,
     "metadata": {},
     "output_type": "execute_result"
    }
   ],
   "source": [
    "df_resp2017.describe()"
   ]
  },
  {
   "cell_type": "code",
   "execution_count": 139,
   "metadata": {},
   "outputs": [
    {
     "data": {
      "text/html": [
       "<div>\n",
       "<style scoped>\n",
       "    .dataframe tbody tr th:only-of-type {\n",
       "        vertical-align: middle;\n",
       "    }\n",
       "\n",
       "    .dataframe tbody tr th {\n",
       "        vertical-align: top;\n",
       "    }\n",
       "\n",
       "    .dataframe thead th {\n",
       "        text-align: right;\n",
       "    }\n",
       "</style>\n",
       "<table border=\"1\" class=\"dataframe\">\n",
       "  <thead>\n",
       "    <tr style=\"text-align: right;\">\n",
       "      <th></th>\n",
       "      <th>ï»¿Id</th>\n",
       "      <th>Basura</th>\n",
       "      <th>EnfermedadesRespiratorias</th>\n",
       "    </tr>\n",
       "  </thead>\n",
       "  <tbody>\n",
       "    <tr>\n",
       "      <th>count</th>\n",
       "      <td>235103.000000</td>\n",
       "      <td>235103.000000</td>\n",
       "      <td>235103.000000</td>\n",
       "    </tr>\n",
       "    <tr>\n",
       "      <th>mean</th>\n",
       "      <td>148168.624224</td>\n",
       "      <td>1.059178</td>\n",
       "      <td>1.969213</td>\n",
       "    </tr>\n",
       "    <tr>\n",
       "      <th>std</th>\n",
       "      <td>84386.807735</td>\n",
       "      <td>0.477486</td>\n",
       "      <td>0.172739</td>\n",
       "    </tr>\n",
       "    <tr>\n",
       "      <th>min</th>\n",
       "      <td>1.000000</td>\n",
       "      <td>1.000000</td>\n",
       "      <td>1.000000</td>\n",
       "    </tr>\n",
       "    <tr>\n",
       "      <th>25%</th>\n",
       "      <td>75094.500000</td>\n",
       "      <td>1.000000</td>\n",
       "      <td>2.000000</td>\n",
       "    </tr>\n",
       "    <tr>\n",
       "      <th>50%</th>\n",
       "      <td>151233.000000</td>\n",
       "      <td>1.000000</td>\n",
       "      <td>2.000000</td>\n",
       "    </tr>\n",
       "    <tr>\n",
       "      <th>75%</th>\n",
       "      <td>223184.500000</td>\n",
       "      <td>1.000000</td>\n",
       "      <td>2.000000</td>\n",
       "    </tr>\n",
       "    <tr>\n",
       "      <th>max</th>\n",
       "      <td>292281.000000</td>\n",
       "      <td>6.000000</td>\n",
       "      <td>2.000000</td>\n",
       "    </tr>\n",
       "  </tbody>\n",
       "</table>\n",
       "</div>"
      ],
      "text/plain": [
       "               ï»¿Id         Basura  EnfermedadesRespiratorias\n",
       "count  235103.000000  235103.000000              235103.000000\n",
       "mean   148168.624224       1.059178                   1.969213\n",
       "std     84386.807735       0.477486                   0.172739\n",
       "min         1.000000       1.000000                   1.000000\n",
       "25%     75094.500000       1.000000                   2.000000\n",
       "50%    151233.000000       1.000000                   2.000000\n",
       "75%    223184.500000       1.000000                   2.000000\n",
       "max    292281.000000       6.000000                   2.000000"
      ]
     },
     "execution_count": 139,
     "metadata": {},
     "output_type": "execute_result"
    }
   ],
   "source": [
    "df_resp2021.describe()"
   ]
  },
  {
   "cell_type": "code",
   "execution_count": 140,
   "metadata": {},
   "outputs": [
    {
     "data": {
      "image/png": "[encoded data removed]",
      "text/plain": [
       "<Figure size 2000x800 with 1 Axes>"
      ]
     },
     "metadata": {},
     "output_type": "display_data"
    }
   ],
   "source": [
    "# Resumen de los estadisticos de las variables numéricas\n",
    "df_resp2017_num = df_resp2017[['Id', 'Enfermedad', 'Basura', 'Asma', 'EnfermedadesRespiratorias']].copy()\n",
    "#Visualización de todas las variables numéricas\n",
    "fig=plt.figure(figsize=(20,8))\n",
    "ax = sns.boxplot(data=df_resp2017_num, orient =\"v\")"
   ]
  },
  {
   "cell_type": "code",
   "execution_count": 141,
   "metadata": {},
   "outputs": [
    {
     "data": {
      "image/png": "[encoded data removed]",
      "text/plain": [
       "<Figure size 2000x800 with 1 Axes>"
      ]
     },
     "metadata": {},
     "output_type": "display_data"
    }
   ],
   "source": [
    "df_resp2021_num = df_resp2021[['ï»¿Id', 'Basura', 'EnfermedadesRespiratorias']].copy()\n",
    "#Visualización de todas las variables numéricas\n",
    "fig=plt.figure(figsize=(20,8))\n",
    "ax = sns.boxplot(data=df_resp2021_num, orient =\"v\")"
   ]
  },
  {
   "cell_type": "code",
   "execution_count": 142,
   "metadata": {},
   "outputs": [
    {
     "data": {
      "text/plain": [
       "Index(['Localidad'], dtype='object')"
      ]
     },
     "execution_count": 142,
     "metadata": {},
     "output_type": "execute_result"
    }
   ],
   "source": [
    "# Explorar las variables que no son numéricas\n",
    "name_cols_non_number = df_resp2017.select_dtypes(include = ['object']).columns\n",
    "name_cols_non_number"
   ]
  },
  {
   "cell_type": "code",
   "execution_count": 143,
   "metadata": {},
   "outputs": [
    {
     "data": {
      "text/html": [
       "<div>\n",
       "<style scoped>\n",
       "    .dataframe tbody tr th:only-of-type {\n",
       "        vertical-align: middle;\n",
       "    }\n",
       "\n",
       "    .dataframe tbody tr th {\n",
       "        vertical-align: top;\n",
       "    }\n",
       "\n",
       "    .dataframe thead th {\n",
       "        text-align: right;\n",
       "    }\n",
       "</style>\n",
       "<table border=\"1\" class=\"dataframe\">\n",
       "  <thead>\n",
       "    <tr style=\"text-align: right;\">\n",
       "      <th></th>\n",
       "      <th>Localidad</th>\n",
       "    </tr>\n",
       "  </thead>\n",
       "  <tbody>\n",
       "    <tr>\n",
       "      <th>count</th>\n",
       "      <td>221809</td>\n",
       "    </tr>\n",
       "    <tr>\n",
       "      <th>unique</th>\n",
       "      <td>21</td>\n",
       "    </tr>\n",
       "    <tr>\n",
       "      <th>top</th>\n",
       "      <td>KENNEDY</td>\n",
       "    </tr>\n",
       "    <tr>\n",
       "      <th>freq</th>\n",
       "      <td>28006</td>\n",
       "    </tr>\n",
       "  </tbody>\n",
       "</table>\n",
       "</div>"
      ],
      "text/plain": [
       "       Localidad\n",
       "count     221809\n",
       "unique        21\n",
       "top      KENNEDY\n",
       "freq       28006"
      ]
     },
     "execution_count": 143,
     "metadata": {},
     "output_type": "execute_result"
    }
   ],
   "source": [
    "#Revisar el contenido de las variables que no son numéricas, en este caso son categóricas\n",
    "df_resp2017[name_cols_non_number].describe()"
   ]
  },
  {
   "cell_type": "code",
   "execution_count": 144,
   "metadata": {},
   "outputs": [
    {
     "data": {
      "text/plain": [
       "Index(['Localidad'], dtype='object')"
      ]
     },
     "execution_count": 144,
     "metadata": {},
     "output_type": "execute_result"
    }
   ],
   "source": [
    "# Explorar las variables que no son numéricas\n",
    "name_cols_non_number = df_resp2021.select_dtypes(include = ['object']).columns\n",
    "name_cols_non_number"
   ]
  },
  {
   "cell_type": "code",
   "execution_count": 145,
   "metadata": {},
   "outputs": [
    {
     "data": {
      "text/html": [
       "<div>\n",
       "<style scoped>\n",
       "    .dataframe tbody tr th:only-of-type {\n",
       "        vertical-align: middle;\n",
       "    }\n",
       "\n",
       "    .dataframe tbody tr th {\n",
       "        vertical-align: top;\n",
       "    }\n",
       "\n",
       "    .dataframe thead th {\n",
       "        text-align: right;\n",
       "    }\n",
       "</style>\n",
       "<table border=\"1\" class=\"dataframe\">\n",
       "  <thead>\n",
       "    <tr style=\"text-align: right;\">\n",
       "      <th></th>\n",
       "      <th>Localidad</th>\n",
       "    </tr>\n",
       "  </thead>\n",
       "  <tbody>\n",
       "    <tr>\n",
       "      <th>count</th>\n",
       "      <td>235103</td>\n",
       "    </tr>\n",
       "    <tr>\n",
       "      <th>unique</th>\n",
       "      <td>20</td>\n",
       "    </tr>\n",
       "    <tr>\n",
       "      <th>top</th>\n",
       "      <td>Kennedy</td>\n",
       "    </tr>\n",
       "    <tr>\n",
       "      <th>freq</th>\n",
       "      <td>26641</td>\n",
       "    </tr>\n",
       "  </tbody>\n",
       "</table>\n",
       "</div>"
      ],
      "text/plain": [
       "       Localidad\n",
       "count     235103\n",
       "unique        20\n",
       "top      Kennedy\n",
       "freq       26641"
      ]
     },
     "execution_count": 145,
     "metadata": {},
     "output_type": "execute_result"
    }
   ],
   "source": [
    "#Revisar el contenido de las variables que no son numéricas, en este caso son categóricas\n",
    "df_resp2021[name_cols_non_number].describe()"
   ]
  },
  {
   "cell_type": "markdown",
   "id": "fb972ec8-b8ad-445b-b1d8-aef19f5d7bea",
   "metadata": {},
   "source": [
    "## Análisis de calidad de datos"
   ]
  },
  {
   "cell_type": "markdown",
   "id": "2dbaec11-d469-4657-a305-215547b05d4d",
   "metadata": {},
   "source": [
    "### Completitud"
   ]
  },
  {
   "cell_type": "code",
   "execution_count": 146,
   "id": "ea0ce8de-1d30-4be8-b4e1-88ef7e521960",
   "metadata": {},
   "outputs": [
    {
     "data": {
      "text/plain": [
       "Localidad                    0.306743\n",
       "Id                           0.000000\n",
       "Enfermedad                   0.000000\n",
       "Basura                       0.000000\n",
       "Asma                         0.000000\n",
       "EnfermedadesRespiratorias    0.000000\n",
       "dtype: float64"
      ]
     },
     "execution_count": 146,
     "metadata": {},
     "output_type": "execute_result"
    }
   ],
   "source": [
    "# Cálculo de porcentaje de valores nulos por columna\n",
    "((df_resp2017.isnull().sum()/df_resp2017.shape[0])).sort_values(ascending=False)"
   ]
  },
  {
   "cell_type": "code",
   "execution_count": 147,
   "metadata": {},
   "outputs": [
    {
     "data": {
      "text/plain": [
       "ï»¿Id                        0.0\n",
       "Localidad                    0.0\n",
       "Basura                       0.0\n",
       "EnfermedadesRespiratorias    0.0\n",
       "dtype: float64"
      ]
     },
     "execution_count": 147,
     "metadata": {},
     "output_type": "execute_result"
    }
   ],
   "source": [
    "# Cálculo de porcentaje de valores nulos por columna\n",
    "((df_resp2021.isnull().sum()/df_resp2021.shape[0])).sort_values(ascending=False)"
   ]
  },
  {
   "cell_type": "markdown",
   "id": "ed59b555-0e88-4c19-adce-a2a65f2071b0",
   "metadata": {},
   "source": [
    "### Unicidad"
   ]
  },
  {
   "cell_type": "code",
   "execution_count": 148,
   "metadata": {},
   "outputs": [
    {
     "data": {
      "text/plain": [
       "0"
      ]
     },
     "execution_count": 148,
     "metadata": {},
     "output_type": "execute_result"
    }
   ],
   "source": [
    "#Se revisa si hay registros duplicados\n",
    "df_resp2017.duplicated(keep = False).sum()"
   ]
  },
  {
   "cell_type": "code",
   "execution_count": 149,
   "id": "f945264a-7e1b-498c-80d9-ef8d3bf93fb3",
   "metadata": {},
   "outputs": [
    {
     "data": {
      "text/plain": [
       "0"
      ]
     },
     "execution_count": 149,
     "metadata": {},
     "output_type": "execute_result"
    }
   ],
   "source": [
    "#Se revisa si hay registros duplicados\n",
    "df_resp2021.duplicated(keep = False).sum()"
   ]
  },
  {
   "cell_type": "markdown",
   "id": "71fd38e3-ad4f-4cf3-ab31-febcc9af20ac",
   "metadata": {},
   "source": [
    "### Consistencia"
   ]
  },
  {
   "cell_type": "code",
   "execution_count": 150,
   "id": "786da052-7081-4191-9ef0-1ba1cb5f6326",
   "metadata": {},
   "outputs": [
    {
     "data": {
      "text/plain": [
       "Basura\n",
       "1    313964\n",
       "6      2406\n",
       "4      2399\n",
       "5       608\n",
       "3       394\n",
       "2       181\n",
       "Name: count, dtype: int64"
      ]
     },
     "execution_count": 150,
     "metadata": {},
     "output_type": "execute_result"
    }
   ],
   "source": [
    "# Se revisa la variable de Basura \n",
    "df_resp2017.Basura.value_counts()"
   ]
  },
  {
   "cell_type": "code",
   "execution_count": 151,
   "metadata": {},
   "outputs": [
    {
     "data": {
      "text/plain": [
       "Basura\n",
       "1.0    231236\n",
       "4.0      1948\n",
       "6.0      1206\n",
       "5.0       342\n",
       "3.0       300\n",
       "2.0        71\n",
       "Name: count, dtype: int64"
      ]
     },
     "execution_count": 151,
     "metadata": {},
     "output_type": "execute_result"
    }
   ],
   "source": [
    "# Se revisa la variable Basura\n",
    "df_resp2021.Basura.value_counts()"
   ]
  },
  {
   "cell_type": "code",
   "execution_count": 152,
   "id": "de01d4a4-9de6-4945-9a91-73917f58fe35",
   "metadata": {},
   "outputs": [
    {
     "data": {
      "text/plain": [
       "Localidad\n",
       "KENNEDY                 28006\n",
       "SUBA                    22603\n",
       "FONTIBON                18746\n",
       "ENGATIVA                16623\n",
       "CIUDAD BOLIVAR          16218\n",
       "USME                    14901\n",
       "SAN CRISTOBAL           12596\n",
       "BOSA                    12559\n",
       "USAQUEN                 12004\n",
       "PUENTE ARANDA           10243\n",
       "TEUSAQUILLO              9810\n",
       "RAFAEL URIBE URIBE       9668\n",
       "SANTA FE                 8587\n",
       "BARRIOS UNIDOS           5549\n",
       "ANTONIO NARIï¿½?O        5474\n",
       "TUNJUELITO               5281\n",
       "LOS MARTIRES             4591\n",
       "CHAPINERO                4089\n",
       "CANDELARIA               1984\n",
       "SUMAPAZ                  1232\n",
       "OTRA LOCALIDAD RURAL     1045\n",
       "Name: count, dtype: int64"
      ]
     },
     "execution_count": 152,
     "metadata": {},
     "output_type": "execute_result"
    }
   ],
   "source": [
    "# Se revisa la variable personas por localidad\n",
    "df_resp2017.Localidad.value_counts()"
   ]
  },
  {
   "cell_type": "code",
   "execution_count": 153,
   "metadata": {},
   "outputs": [
    {
     "data": {
      "text/plain": [
       "Localidad\n",
       "Kennedy               26641\n",
       "Suba                  24536\n",
       "Engativa              17780\n",
       "Ciudad Bolivar        17723\n",
       "Usaquen               17179\n",
       "Fontibon              16781\n",
       "Usme                  13602\n",
       "San Cristobal         12616\n",
       "Bosa                  12565\n",
       "Rafael Uribe Uribe    11796\n",
       "Teusaquillo           11386\n",
       "Santa Fe               9949\n",
       "Puente Aranda          8992\n",
       "Chapinero              8814\n",
       "Barrios Unidos         6775\n",
       "Los Martires           4736\n",
       "Tunjuelito             4608\n",
       "Antonio NariÃ±o        4391\n",
       "La Candelaria          2247\n",
       "Sumapaz                1986\n",
       "Name: count, dtype: int64"
      ]
     },
     "execution_count": 153,
     "metadata": {},
     "output_type": "execute_result"
    }
   ],
   "source": [
    "# Se revisa la variable personas por localidad\n",
    "df_resp2021.Localidad.value_counts()"
   ]
  },
  {
   "cell_type": "code",
   "execution_count": 154,
   "metadata": {},
   "outputs": [
    {
     "data": {
      "text/plain": [
       "EnfermedadesRespiratorias\n",
       "2    306294\n",
       "1     13658\n",
       "Name: count, dtype: int64"
      ]
     },
     "execution_count": 154,
     "metadata": {},
     "output_type": "execute_result"
    }
   ],
   "source": [
    "# Se revisa la variable de personas enfermas\n",
    "df_resp2017.EnfermedadesRespiratorias.value_counts()"
   ]
  },
  {
   "cell_type": "code",
   "execution_count": 155,
   "metadata": {},
   "outputs": [
    {
     "data": {
      "text/plain": [
       "EnfermedadesRespiratorias\n",
       "2.0    227865\n",
       "1.0      7238\n",
       "Name: count, dtype: int64"
      ]
     },
     "execution_count": 155,
     "metadata": {},
     "output_type": "execute_result"
    }
   ],
   "source": [
    "#Se revisa la variable de personas enfermas\n",
    "df_resp2021.EnfermedadesRespiratorias.value_counts()"
   ]
  },
  {
   "cell_type": "markdown",
   "metadata": {},
   "source": [
    "### Validez"
   ]
  },
  {
   "cell_type": "markdown",
   "metadata": {},
   "source": [
    "En el caso de la validez, al ser datos de una fuente del DANE y con la ayuda del diccionario de datos, todo este conjunto se revisó y no se encontraron valores fuera de lo normal para ningún caso. Esto se ve reflejado en los datatypes y en la carga de los datos hacia PowerBi donde no hubo errores."
   ]
  },
  {
   "cell_type": "markdown",
   "id": "412782c1-1128-4ad9-b2e4-bdbff39fff97",
   "metadata": {},
   "source": [
    "## Correción de los datos"
   ]
  },
  {
   "cell_type": "code",
   "execution_count": 156,
   "id": "10d75255-3fa3-44a8-b0e3-178a7abcaca6",
   "metadata": {},
   "outputs": [],
   "source": [
    "df_resp2017.fillna(\"Localidad desconocida\", inplace=True)\n",
    "df_resp2021.fillna(\"Localidad desconocida\", inplace=True)"
   ]
  },
  {
   "cell_type": "code",
   "execution_count": 157,
   "id": "e67e0411-c9a6-4774-972b-16bcb4a57e82",
   "metadata": {},
   "outputs": [
    {
     "data": {
      "text/plain": [
       "Id                           0.0\n",
       "Enfermedad                   0.0\n",
       "Basura                       0.0\n",
       "Asma                         0.0\n",
       "EnfermedadesRespiratorias    0.0\n",
       "Localidad                    0.0\n",
       "dtype: float64"
      ]
     },
     "execution_count": 157,
     "metadata": {},
     "output_type": "execute_result"
    }
   ],
   "source": [
    "# Cálculo de porcentaje de valores nulos por columna\n",
    "((df_resp2017.isnull().sum()/df_resp2017.shape[0])).sort_values(ascending=False)"
   ]
  },
  {
   "cell_type": "code",
   "execution_count": 158,
   "metadata": {},
   "outputs": [
    {
     "data": {
      "text/plain": [
       "ï»¿Id                        0.0\n",
       "Localidad                    0.0\n",
       "Basura                       0.0\n",
       "EnfermedadesRespiratorias    0.0\n",
       "dtype: float64"
      ]
     },
     "execution_count": 158,
     "metadata": {},
     "output_type": "execute_result"
    }
   ],
   "source": [
    "# Cálculo de porcentaje de valores nulos por columna\n",
    "((df_resp2021.isnull().sum()/df_resp2021.shape[0])).sort_values(ascending=False)"
   ]
  },
  {
   "cell_type": "markdown",
   "id": "966323b7-5ff9-48cf-a711-2ad057d70d8c",
   "metadata": {},
   "source": [
    "## Imprimir resultados"
   ]
  },
  {
   "cell_type": "code",
   "execution_count": 159,
   "id": "876e820c-518e-49c3-ad0d-de4a9f2f5ee0",
   "metadata": {},
   "outputs": [],
   "source": [
    "#2017\n",
    "df_resp2017.to_csv('DatosResp2017_Modificados.csv', index=False)\n",
    "#2021\n",
    "df_resp2021.to_csv('DatosResp2021_Modificados.csv', index=False)"
   ]
  }
 ],
 "metadata": {
  "kernelspec": {
   "display_name": "Python 3 (ipykernel)",
   "language": "python",
   "name": "python3"
  },
  "language_info": {
   "codemirror_mode": {
    "name": "ipython",
    "version": 3
   },
   "file_extension": ".py",
   "mimetype": "text/x-python",
   "name": "python",
   "nbconvert_exporter": "python",
   "pygments_lexer": "ipython3",
   "version": "3.10.2"
  }
 },
 "nbformat": 4,
 "nbformat_minor": 5
}
